{
  "nbformat": 4,
  "nbformat_minor": 0,
  "metadata": {
    "colab": {
      "name": "Copy of Assignment2.ipynb",
      "provenance": [],
      "collapsed_sections": [],
      "authorship_tag": "ABX9TyNDyVP1Zk9OmNUSog+9yiiL",
      "include_colab_link": true
    },
    "kernelspec": {
      "name": "python3",
      "display_name": "Python 3"
    },
    "language_info": {
      "name": "python"
    }
  },
  "cells": [
    {
      "cell_type": "markdown",
      "metadata": {
        "id": "view-in-github",
        "colab_type": "text"
      },
      "source": [
        "<a href=\"https://colab.research.google.com/github/mmrepos/CS6375.MU1-Machine_Learning-Su22/blob/main/Assignment2/Assignment2.ipynb\" target=\"_parent\"><img src=\"https://colab.research.google.com/assets/colab-badge.svg\" alt=\"Open In Colab\"/></a>"
      ]
    },
    {
      "cell_type": "code",
      "execution_count": 7,
      "metadata": {
        "id": "QP3Y9r85VpYv"
      },
      "outputs": [],
      "source": [
        "#####################################################################################################################\n",
        "#   Neural Network Analysis\n",
        "#   This is a starter code in Python 3.6 for a neural network.\n",
        "#   You need to have numpy and pandas installed before running this code.\n",
        "#   You need to complete all TODO marked sections\n",
        "#   You are free to modify this code in any way you want, but need to mention it\n",
        "#   in the README file.\n",
        "#\n",
        "#####################################################################################################################\n",
        "\n",
        "import numpy as np\n",
        "import pandas as pd\n",
        "from sklearn.model_selection import train_test_split\n",
        "from sklearn.neural_network import MLPClassifier\n",
        "from sklearn.metrics import accuracy_score\n",
        "from sklearn.metrics import mean_squared_error\n",
        "import warnings\n",
        "import matplotlib.pyplot as plt"
      ]
    },
    {
      "cell_type": "code",
      "source": [
        "class NeuralNet:\n",
        "    def __init__(self, dataFile, header=True):\n",
        "        self.raw_input = pd.read_csv(dataFile, header=None, usecols=[0, 1, 2, 3, 4, 5, 6])\n",
        "\n",
        "    # TODO: Write code for pre-processing the dataset, which would include\n",
        "    # standardization, normalization,\n",
        "    # categorical to numerical, etc\n",
        "    def preprocess(self):\n",
        "        result = []\n",
        "        number_dict = {\"zero\": 0, \"one\": 1, \"two\": 2, \"three\": 3, \"four\": 4, \"five\": 5, \"six\": 6,\n",
        "                       \"seven\": 7, \"eight\": 8, \"nine\": 9, \"ten\": 10, \"eleven\": 11, \"twelve\": 12,\n",
        "                       \"thirteen\": 13, \"fourteen\": 14, \"fifteen\": 15, \"sixteen\": 16, \"draw\": 107}\n",
        "\n",
        "        for index, row in self.raw_input.iterrows():\n",
        "            new_row = []\n",
        "            # new_row.append(ord(row[0]) - ord('a'))\n",
        "            # new_row.append(row[1])\n",
        "            # new_row.append(ord(row[2]) - ord('a'))\n",
        "            # new_row.append(row[3])\n",
        "            # new_row.append(ord(row[4]) - ord('a'))\n",
        "            # new_row.append(row[5])\n",
        "            new_row.append(ord(row[0]) - ord('a') + row[1] * 8)\n",
        "            new_row.append(ord(row[2]) - ord('a') + row[3] * 8)\n",
        "            new_row.append(ord(row[4]) - ord('a') + row[5] * 8)\n",
        "            new_row.append(number_dict[row[6]])\n",
        "            result.append(new_row)\n",
        "        self.processed_data = pd.DataFrame.from_records(result)\n",
        "\n",
        "        return 0\n",
        "\n",
        "    # TODO: Train and evaluate models for all combinations of parameters\n",
        "    # specified. We would like to obtain following outputs:\n",
        "    #   1. Training Accuracy and Error (Loss) for every model\n",
        "    #   2. Test Accuracy and Error (Loss) for every model\n",
        "    #   3. History Curve (Plot of Accuracy against training steps) for all\n",
        "    #       the models in a single plot. The plot should be color coded i.e.\n",
        "    #       different color for each model\n",
        "\n",
        "    def train_evaluate(self):\n",
        "        ncols = len(self.processed_data.columns)\n",
        "        nrows = len(self.processed_data.index)\n",
        "        X = self.processed_data.iloc[:, 0:(ncols - 1)]\n",
        "        y = self.processed_data.iloc[:, (ncols - 1)]\n",
        "        X_train, X_test, y_train, y_test = train_test_split(\n",
        "            X, y)\n",
        "\n",
        "        # Below are the hyperparameters that you need to use for model\n",
        "        #   evaluation\n",
        "        activations = ['logistic', 'tanh', 'relu']\n",
        "        learning_rate = [0.01, 0.1]\n",
        "        max_iterations = [100, 200, 300, 400, 500, 600]  # also known as epochs\n",
        "        num_hidden_layers = [7, 5]\n",
        "\n",
        "        # Create the neural network and keep track of the performance\n",
        "        #  metrics\n",
        "        y_test = y_test.values.tolist()\n",
        "        warnings.simplefilter(\"ignore\")\n",
        "        graphList = []\n",
        "        for current_activation in activations:\n",
        "            print(\"Activation =\" + current_activation)\n",
        "            print('epochs train      test       train         test      ')\n",
        "            print('       accuracy   accuracy    MSE          MSE  ')\n",
        "            row=[]\n",
        "            for epochs in max_iterations:\n",
        "                clf = MLPClassifier(alpha=1e-5, hidden_layer_sizes=num_hidden_layers, activation=current_activation,\n",
        "                                    max_iter=epochs)\n",
        "                clf.fit(X_train, y_train)\n",
        "                y_train_predicted = clf.predict(X_train)\n",
        "                y_predicted = clf.predict(X_test)\n",
        "                row.append( accuracy_score(y_predicted, y_test))\n",
        "                print(\"{0}  {1:10.7f}  {2:10.7f}  {3:10.7f}  {4:10.5f}\".format(epochs, accuracy_score(y_train_predicted, y_train),\n",
        "                                                   accuracy_score(y_predicted, y_test)\n",
        "                                                   , mean_squared_error(y_train_predicted, y_train),\n",
        "                                                   mean_squared_error(y_predicted, y_test)))\n",
        "            graphList.append(row)\n",
        "\n",
        "        # Plot the model history for each model in a single plot\n",
        "        # model history is a plot of accuracy vs number of epochs\n",
        "        # you may want to create a large sized plot to show multiple lines\n",
        "        # in a same figure.\n",
        "        print(graphList)\n",
        "        plt.plot(max_iterations, graphList[0], max_iterations,graphList[1], max_iterations,graphList[2])\n",
        "        plt.legend(['logistic', 'tanh', 'relu'])\n",
        "        plt.show()\n",
        "\n",
        "        return 0\n",
        "\n",
        "\n",
        "if __name__ == \"__main__\":\n",
        "    neural_network = NeuralNet(\"https://archive.ics.uci.edu/ml/machine-learning-databases/chess/king-rook-vs-king/krkopt.data\")  # put in path to your file\n",
        "    neural_network.preprocess()\n",
        "    neural_network.train_evaluate()"
      ],
      "metadata": {
        "colab": {
          "base_uri": "https://localhost:8080/",
          "height": 771
        },
        "id": "EK1V1Z_OV1b_",
        "outputId": "8dcfcce7-21dc-4723-eef5-20554811ca7c"
      },
      "execution_count": 8,
      "outputs": [
        {
          "output_type": "stream",
          "name": "stdout",
          "text": [
            "Activation =logistic\n",
            "epochs train      test       train         test      \n",
            "       accuracy   accuracy    MSE          MSE  \n",
            "100   0.2726452   0.2730254  887.1844406   930.98432\n",
            "200   0.2997814   0.2994012  1591.4109875  1642.26804\n",
            "300   0.2987834   0.2955518  1640.7742610  1650.69946\n",
            "400   0.3260622   0.3230681  1664.8870355  1733.99786\n",
            "500   0.3002091   0.2954092  1035.9320407  1057.93499\n",
            "600   0.3147039   0.3103792  1623.0472864  1639.00285\n",
            "Activation =tanh\n",
            "epochs train      test       train         test      \n",
            "       accuracy   accuracy    MSE          MSE  \n",
            "100   0.2978804   0.3021101  1638.1298356  1661.05475\n",
            "200   0.3324304   0.3340462  1556.8542439  1590.84388\n",
            "300   0.3170801   0.3173653  1583.3467351  1587.68335\n",
            "400   0.3248741   0.3260622  1611.8850394  1649.40091\n",
            "500   0.3317650   0.3334759  1624.5427716  1688.82293\n",
            "600   0.3449767   0.3414599  876.4325159   932.40106\n",
            "Activation =relu\n",
            "epochs train      test       train         test      \n",
            "       accuracy   accuracy    MSE          MSE  \n",
            "100   0.2817698   0.2730254  1957.7855242  2031.67166\n",
            "200   0.3217375   0.3138010  1534.6731299  1591.75406\n",
            "300   0.3012546   0.3023952  1444.5734246  1474.11420\n",
            "400   0.3064823   0.3048189  1650.1186199  1680.72255\n",
            "500   0.3064347   0.3055318  1429.3120901  1440.00599\n",
            "600   0.3049615   0.3036784  1422.0643475  1460.66481\n",
            "[[0.273025377815797, 0.2994011976047904, 0.29555175363558595, 0.3230681494154548, 0.2954091816367265, 0.31037924151696605], [0.3021100655831195, 0.33404619332763047, 0.31736526946107785, 0.32606216139150274, 0.33347590533219273, 0.3414599372683205], [0.273025377815797, 0.31380096948959224, 0.3023952095808383, 0.3048189335614485, 0.30553179355574567, 0.30367835757057315]]\n"
          ]
        },
        {
          "output_type": "display_data",
          "data": {
            "text/plain": [
              "<Figure size 432x288 with 1 Axes>"
            ],
            "image/png": "[encoded data removed]"
          },
          "metadata": {
            "needs_background": "light"
          }
        }
      ]
    }
  ]
}