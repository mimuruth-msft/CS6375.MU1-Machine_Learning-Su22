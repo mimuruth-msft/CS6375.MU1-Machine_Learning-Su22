{
  "nbformat": 4,
  "nbformat_minor": 0,
  "metadata": {
    "colab": {
      "name": "Copy of Assignment2.ipynb",
      "provenance": [],
      "collapsed_sections": [],
      "authorship_tag": "ABX9TyPmHWWW/iMKDuHVaerDs1e5",
      "include_colab_link": true
    },
    "kernelspec": {
      "name": "python3",
      "display_name": "Python 3"
    },
    "language_info": {
      "name": "python"
    }
  },
  "cells": [
    {
      "cell_type": "markdown",
      "metadata": {
        "id": "view-in-github",
        "colab_type": "text"
      },
      "source": [
        "<a href=\"https://colab.research.google.com/github/mmrepos/CS6375.MU1-Machine_Learning-Su22/blob/main/Assignment2/Assignment2.ipynb\" target=\"_parent\"><img src=\"https://colab.research.google.com/assets/colab-badge.svg\" alt=\"Open In Colab\"/></a>"
      ]
    },
    {
      "cell_type": "code",
      "execution_count": null,
      "metadata": {
        "id": "QP3Y9r85VpYv"
      },
      "outputs": [],
      "source": [
        "#####################################################################################################################\n",
        "#\n",
        "#   Neural Network Analysis\n",
        "#   Need to have numpy and pandas installed before running this code.\n",
        "#   Need to complete all TODO marked sections\n",
        "#\n",
        "#####################################################################################################################\n",
        "\n",
        "import numpy as np\n",
        "import pandas as pd\n",
        "from sklearn.model_selection import train_test_split\n",
        "from sklearn.neural_network import MLPClassifier\n",
        "from sklearn.metrics import accuracy_score\n",
        "from sklearn.metrics import mean_squared_error\n",
        "import warnings\n",
        "import matplotlib.pyplot as plt"
      ]
    },
    {
      "cell_type": "code",
      "source": [
        "class NeuralNet:\n",
        "    def __init__(self, dataFile, header=True):\n",
        "        self.raw_input = pd.read_csv(dataFile, header=None, usecols=[0, 1, 2, 3, 4, 5, 6])\n",
        "\n",
        "    # TODO: Write code for pre-processing the dataset, which would include\n",
        "    # standardization, normalization,\n",
        "    # categorical to numerical, etc\n",
        "    def preprocess(self):\n",
        "        result = []\n",
        "        number_dict = {\"zero\": 0, \"one\": 1, \"two\": 2, \"three\": 3, \"four\": 4, \"five\": 5, \"six\": 6,\n",
        "                       \"seven\": 7, \"eight\": 8, \"nine\": 9, \"ten\": 10, \"eleven\": 11, \"twelve\": 12,\n",
        "                       \"thirteen\": 13, \"fourteen\": 14, \"fifteen\": 15, \"sixteen\": 16, \"draw\": 107}\n",
        "\n",
        "        for index, row in self.raw_input.iterrows():\n",
        "            new_row = []\n",
        "            # new_row.append(ord(row[0]) - ord('a'))\n",
        "            # new_row.append(row[1])\n",
        "            # new_row.append(ord(row[2]) - ord('a'))\n",
        "            # new_row.append(row[3])\n",
        "            # new_row.append(ord(row[4]) - ord('a'))\n",
        "            # new_row.append(row[5])\n",
        "            new_row.append(ord(row[0]) - ord('a') + row[1] * 8)\n",
        "            new_row.append(ord(row[2]) - ord('a') + row[3] * 8)\n",
        "            new_row.append(ord(row[4]) - ord('a') + row[5] * 8)\n",
        "            new_row.append(number_dict[row[6]])\n",
        "            result.append(new_row)\n",
        "        self.processed_data = pd.DataFrame.from_records(result)\n",
        "\n",
        "        return 0\n",
        "\n",
        "    # TODO: Train and evaluate models for all combinations of parameters\n",
        "    # specified. We would like to obtain following outputs:\n",
        "    #   1. Training Accuracy and Error (Loss) for every model\n",
        "    #   2. Test Accuracy and Error (Loss) for every model\n",
        "    #   3. History Curve (Plot of Accuracy against training steps) for all\n",
        "    #      the models in a single plot. The plot should be color coded i.e.\n",
        "    #      different color for each model. (Plot the model history for all the\n",
        "    #       cases on a single plot.)\n",
        "\n",
        "    def train_evaluate(self):\n",
        "        ncols = len(self.processed_data.columns)\n",
        "        nrows = len(self.processed_data.index)\n",
        "        X = self.processed_data.iloc[:, 0:(ncols - 1)]\n",
        "        y = self.processed_data.iloc[:, (ncols - 1)]\n",
        "        X_train, X_test, y_train, y_test = train_test_split(\n",
        "            X, y)\n",
        "\n",
        "        # Below are the hyperparameters needed to use for model\n",
        "        # evaluation\n",
        "        activations = ['logistic', 'tanh', 'relu']\n",
        "        learning_rate = [0.01, 0.1]\n",
        "        max_iterations = [100, 200, 300, 400, 500, 600]  # also known as epochs\n",
        "        num_hidden_layers = [7, 5]\n",
        "\n",
        "        # Create the neural network and keep track of the performance\n",
        "        # metrics\n",
        "        y_test = y_test.values.tolist()\n",
        "        warnings.simplefilter(\"ignore\")\n",
        "        graphList = []\n",
        "        for current_activation in activations:\n",
        "            print(\"Activation =\" + current_activation)\n",
        "            print('epochs train      test       train         test      ')\n",
        "            print('       accuracy   accuracy    MSE          MSE  ')\n",
        "            row=[]\n",
        "            for epochs in max_iterations:\n",
        "                clf = MLPClassifier(alpha=1e-5, hidden_layer_sizes=num_hidden_layers, activation=current_activation,\n",
        "                                    max_iter=epochs)\n",
        "                clf.fit(X_train, y_train)\n",
        "                y_train_predicted = clf.predict(X_train)\n",
        "                y_predicted = clf.predict(X_test)\n",
        "                row.append( accuracy_score(y_predicted, y_test))\n",
        "                print(\"{0}  {1:10.7f}  {2:10.7f}  {3:10.7f}  {4:10.5f}\".format(epochs, accuracy_score(y_train_predicted, y_train),\n",
        "                                                   accuracy_score(y_predicted, y_test)\n",
        "                                                   , mean_squared_error(y_train_predicted, y_train),\n",
        "                                                   mean_squared_error(y_predicted, y_test)))\n",
        "            graphList.append(row)\n",
        "\n",
        "        # Plot the model history for each model in a single plot\n",
        "        # model history is a plot of accuracy vs number of epochs in every case\n",
        "        # Create a large sized plot to show multiple lines in a same figure.\n",
        "        # Output a table of results containing following columns: \n",
        "        # model hyperparameters, training and test accuracies, and training\n",
        "        # and test errors (e.g. mean squared error)\n",
        "        print(graphList)\n",
        "        plt.plot(max_iterations, graphList[0], max_iterations,graphList[1], max_iterations,graphList[2])\n",
        "        plt.legend(['logistic', 'tanh', 'relu'])\n",
        "        plt.show()\n",
        "\n",
        "        return 0\n",
        "\n",
        "\n",
        "if __name__ == \"__main__\":\n",
        "    neural_network = NeuralNet(\"https://archive.ics.uci.edu/ml/machine-learning-databases/chess/king-rook-vs-king/krkopt.data\")  # put in path to your file\n",
        "    neural_network.preprocess()\n",
        "    neural_network.train_evaluate()"
      ],
      "metadata": {
        "colab": {
          "base_uri": "https://localhost:8080/",
          "height": 792
        },
        "id": "EK1V1Z_OV1b_",
        "outputId": "2d4f48c6-1427-4a48-97d1-3af78807dcc8"
      },
      "execution_count": null,
      "outputs": [
        {
          "output_type": "stream",
          "name": "stdout",
          "text": [
            "Activation =logistic\n",
            "epochs train      test       train         test      \n",
            "       accuracy   accuracy    MSE          MSE  \n",
            "100   0.2629978   0.2559167  905.3619428   933.70031\n",
            "200   0.2804391   0.2713145  1145.8881760  1145.91474\n",
            "300   0.2910370   0.2754491  927.7145709   979.73681\n",
            "400   0.3002091   0.2925577  1346.7522574  1340.76105\n",
            "500   0.2973101   0.2850014  1037.0666286  1085.44055\n",
            "600   0.3408421   0.3374679  1557.0561258  1551.87140\n",
            "Activation =tanh\n",
            "epochs train      test       train         test      \n",
            "       accuracy   accuracy    MSE          MSE  \n",
            "100   0.3035358   0.2919875  782.2162342   821.59053\n",
            "200   0.3028229   0.2995438  1493.5707157  1501.23011\n",
            "300   0.3245889   0.3279156  1249.3691664  1262.05632\n",
            "400   0.3522954   0.3433134  740.1536451   717.86727\n",
            "500   0.3390362   0.3360422  1537.9229636  1536.94197\n",
            "600   0.3491588   0.3391788  793.6567817   802.98546\n",
            "Activation =relu\n",
            "epochs train      test       train         test      \n",
            "       accuracy   accuracy    MSE          MSE  \n",
            "100   0.3125178   0.3142287  1695.4875487  1695.26575\n",
            "200   0.3044387   0.3051041  1459.4454900  1434.39065\n",
            "300   0.3253493   0.3249216  1491.6370592  1500.89293\n",
            "400   0.3065773   0.3029655  1554.3070050  1554.54619\n",
            "500   0.2991636   0.2968349  1683.4463454  1753.49929\n",
            "600   0.2952191   0.2917023  1369.5450052  1399.19233\n",
            "[[0.2559167379526661, 0.2713145138294839, 0.2754491017964072, 0.2925577416595381, 0.2850014257199886, 0.33746792130025666], [0.2919874536641004, 0.29954376960364987, 0.3279155973766752, 0.34331337325349304, 0.3360422013116624, 0.3391787852865697], [0.3142286854861705, 0.30510407755916735, 0.3249215854006273, 0.302965497576276, 0.2968349016253208, 0.2917023096663815]]\n"
          ]
        },
        {
          "output_type": "display_data",
          "data": {
            "text/plain": [
              "<Figure size 432x288 with 1 Axes>"
            ],
            "image/png": "[encoded data removed]"
          },
          "metadata": {
            "needs_background": "light"
          }
        }
      ]
    }
  ]
}